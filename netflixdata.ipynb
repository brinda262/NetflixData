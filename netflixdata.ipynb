{
 "cells": [
  {
   "cell_type": "code",
   "execution_count": 1,
   "id": "d1a32376",
   "metadata": {},
   "outputs": [],
   "source": [
    "import numpy as np\n",
    "import pandas as pd\n",
    "import seaborn as sns\n",
    "import matplotlib as plt\n",
    "from pylab import rcParams\n",
    "sns.set()"
   ]
  },
  {
   "cell_type": "code",
   "execution_count": 2,
   "id": "bdef5750",
   "metadata": {},
   "outputs": [],
   "source": [
    "df=pd.read_csv(\"/Users/keyurpatel/Downloads/n_movies.csv\")"
   ]
  },
  {
   "cell_type": "code",
   "execution_count": 3,
   "id": "62c92aab",
   "metadata": {},
   "outputs": [
    {
     "data": {
      "text/html": [
       "<div>\n",
       "<style scoped>\n",
       "    .dataframe tbody tr th:only-of-type {\n",
       "        vertical-align: middle;\n",
       "    }\n",
       "\n",
       "    .dataframe tbody tr th {\n",
       "        vertical-align: top;\n",
       "    }\n",
       "\n",
       "    .dataframe thead th {\n",
       "        text-align: right;\n",
       "    }\n",
       "</style>\n",
       "<table border=\"1\" class=\"dataframe\">\n",
       "  <thead>\n",
       "    <tr style=\"text-align: right;\">\n",
       "      <th></th>\n",
       "      <th>title</th>\n",
       "      <th>year</th>\n",
       "      <th>certificate</th>\n",
       "      <th>duration</th>\n",
       "      <th>genre</th>\n",
       "      <th>rating</th>\n",
       "      <th>description</th>\n",
       "      <th>stars</th>\n",
       "      <th>votes</th>\n",
       "    </tr>\n",
       "  </thead>\n",
       "  <tbody>\n",
       "    <tr>\n",
       "      <th>0</th>\n",
       "      <td>Cobra Kai</td>\n",
       "      <td>(2018– )</td>\n",
       "      <td>TV-14</td>\n",
       "      <td>30 min</td>\n",
       "      <td>Action, Comedy, Drama</td>\n",
       "      <td>8.5</td>\n",
       "      <td>Decades after their 1984 All Valley Karate Tou...</td>\n",
       "      <td>['Ralph Macchio, ', 'William Zabka, ', 'Courtn...</td>\n",
       "      <td>177,031</td>\n",
       "    </tr>\n",
       "    <tr>\n",
       "      <th>1</th>\n",
       "      <td>The Crown</td>\n",
       "      <td>(2016– )</td>\n",
       "      <td>TV-MA</td>\n",
       "      <td>58 min</td>\n",
       "      <td>Biography, Drama, History</td>\n",
       "      <td>8.7</td>\n",
       "      <td>Follows the political rivalries and romance of...</td>\n",
       "      <td>['Claire Foy, ', 'Olivia Colman, ', 'Imelda St...</td>\n",
       "      <td>199,885</td>\n",
       "    </tr>\n",
       "    <tr>\n",
       "      <th>2</th>\n",
       "      <td>Better Call Saul</td>\n",
       "      <td>(2015–2022)</td>\n",
       "      <td>TV-MA</td>\n",
       "      <td>46 min</td>\n",
       "      <td>Crime, Drama</td>\n",
       "      <td>8.9</td>\n",
       "      <td>The trials and tribulations of criminal lawyer...</td>\n",
       "      <td>['Bob Odenkirk, ', 'Rhea Seehorn, ', 'Jonathan...</td>\n",
       "      <td>501,384</td>\n",
       "    </tr>\n",
       "    <tr>\n",
       "      <th>3</th>\n",
       "      <td>Devil in Ohio</td>\n",
       "      <td>(2022)</td>\n",
       "      <td>TV-MA</td>\n",
       "      <td>356 min</td>\n",
       "      <td>Drama, Horror, Mystery</td>\n",
       "      <td>5.9</td>\n",
       "      <td>When a psychiatrist shelters a mysterious cult...</td>\n",
       "      <td>['Emily Deschanel, ', 'Sam Jaeger, ', 'Gerardo...</td>\n",
       "      <td>9,773</td>\n",
       "    </tr>\n",
       "    <tr>\n",
       "      <th>4</th>\n",
       "      <td>Cyberpunk: Edgerunners</td>\n",
       "      <td>(2022– )</td>\n",
       "      <td>TV-MA</td>\n",
       "      <td>24 min</td>\n",
       "      <td>Animation, Action, Adventure</td>\n",
       "      <td>8.6</td>\n",
       "      <td>A Street Kid trying to survive in a technology...</td>\n",
       "      <td>['Zach Aguilar, ', 'Kenichiro Ohashi, ', 'Emi ...</td>\n",
       "      <td>15,413</td>\n",
       "    </tr>\n",
       "    <tr>\n",
       "      <th>...</th>\n",
       "      <td>...</td>\n",
       "      <td>...</td>\n",
       "      <td>...</td>\n",
       "      <td>...</td>\n",
       "      <td>...</td>\n",
       "      <td>...</td>\n",
       "      <td>...</td>\n",
       "      <td>...</td>\n",
       "      <td>...</td>\n",
       "    </tr>\n",
       "    <tr>\n",
       "      <th>9952</th>\n",
       "      <td>The Imperfects</td>\n",
       "      <td>(2022– )</td>\n",
       "      <td>TV-MA</td>\n",
       "      <td>45 min</td>\n",
       "      <td>Action, Adventure, Drama</td>\n",
       "      <td>6.3</td>\n",
       "      <td>After an experimental gene therapy turns them ...</td>\n",
       "      <td>['Morgan Taylor Campbell, ', 'Italia Ricci, ',...</td>\n",
       "      <td>3,130</td>\n",
       "    </tr>\n",
       "    <tr>\n",
       "      <th>9953</th>\n",
       "      <td>The Walking Dead</td>\n",
       "      <td>(2010–2022)</td>\n",
       "      <td>TV-MA</td>\n",
       "      <td>44 min</td>\n",
       "      <td>Drama, Horror, Thriller</td>\n",
       "      <td>8.1</td>\n",
       "      <td>Sheriff Deputy Rick Grimes wakes up from a com...</td>\n",
       "      <td>['Andrew Lincoln, ', 'Norman Reedus, ', 'Melis...</td>\n",
       "      <td>970,067</td>\n",
       "    </tr>\n",
       "    <tr>\n",
       "      <th>9954</th>\n",
       "      <td>The Crown</td>\n",
       "      <td>(2016– )</td>\n",
       "      <td>TV-MA</td>\n",
       "      <td>58 min</td>\n",
       "      <td>Biography, Drama, History</td>\n",
       "      <td>8.7</td>\n",
       "      <td>Follows the political rivalries and romance of...</td>\n",
       "      <td>['Claire Foy, ', 'Olivia Colman, ', 'Imelda St...</td>\n",
       "      <td>199,898</td>\n",
       "    </tr>\n",
       "    <tr>\n",
       "      <th>9955</th>\n",
       "      <td>Supernatural</td>\n",
       "      <td>(2005–2020)</td>\n",
       "      <td>TV-14</td>\n",
       "      <td>44 min</td>\n",
       "      <td>Drama, Fantasy, Horror</td>\n",
       "      <td>8.4</td>\n",
       "      <td>Two brothers follow their father's footsteps a...</td>\n",
       "      <td>['Jared Padalecki, ', 'Jensen Ackles, ', 'Jim ...</td>\n",
       "      <td>439,601</td>\n",
       "    </tr>\n",
       "    <tr>\n",
       "      <th>9956</th>\n",
       "      <td>Devil in Ohio</td>\n",
       "      <td>(2022)</td>\n",
       "      <td>TV-MA</td>\n",
       "      <td>356 min</td>\n",
       "      <td>Drama, Horror, Mystery</td>\n",
       "      <td>5.9</td>\n",
       "      <td>When a psychiatrist shelters a mysterious cult...</td>\n",
       "      <td>['Emily Deschanel, ', 'Sam Jaeger, ', 'Gerardo...</td>\n",
       "      <td>9,786</td>\n",
       "    </tr>\n",
       "  </tbody>\n",
       "</table>\n",
       "<p>9957 rows × 9 columns</p>\n",
       "</div>"
      ],
      "text/plain": [
       "                       title         year certificate duration  \\\n",
       "0                  Cobra Kai     (2018– )       TV-14   30 min   \n",
       "1                  The Crown     (2016– )       TV-MA   58 min   \n",
       "2           Better Call Saul  (2015–2022)       TV-MA   46 min   \n",
       "3              Devil in Ohio       (2022)       TV-MA  356 min   \n",
       "4     Cyberpunk: Edgerunners     (2022– )       TV-MA   24 min   \n",
       "...                      ...          ...         ...      ...   \n",
       "9952          The Imperfects     (2022– )       TV-MA   45 min   \n",
       "9953        The Walking Dead  (2010–2022)       TV-MA   44 min   \n",
       "9954               The Crown     (2016– )       TV-MA   58 min   \n",
       "9955            Supernatural  (2005–2020)       TV-14   44 min   \n",
       "9956           Devil in Ohio       (2022)       TV-MA  356 min   \n",
       "\n",
       "                             genre  rating  \\\n",
       "0            Action, Comedy, Drama     8.5   \n",
       "1        Biography, Drama, History     8.7   \n",
       "2                     Crime, Drama     8.9   \n",
       "3           Drama, Horror, Mystery     5.9   \n",
       "4     Animation, Action, Adventure     8.6   \n",
       "...                            ...     ...   \n",
       "9952      Action, Adventure, Drama     6.3   \n",
       "9953       Drama, Horror, Thriller     8.1   \n",
       "9954     Biography, Drama, History     8.7   \n",
       "9955        Drama, Fantasy, Horror     8.4   \n",
       "9956        Drama, Horror, Mystery     5.9   \n",
       "\n",
       "                                            description  \\\n",
       "0     Decades after their 1984 All Valley Karate Tou...   \n",
       "1     Follows the political rivalries and romance of...   \n",
       "2     The trials and tribulations of criminal lawyer...   \n",
       "3     When a psychiatrist shelters a mysterious cult...   \n",
       "4     A Street Kid trying to survive in a technology...   \n",
       "...                                                 ...   \n",
       "9952  After an experimental gene therapy turns them ...   \n",
       "9953  Sheriff Deputy Rick Grimes wakes up from a com...   \n",
       "9954  Follows the political rivalries and romance of...   \n",
       "9955  Two brothers follow their father's footsteps a...   \n",
       "9956  When a psychiatrist shelters a mysterious cult...   \n",
       "\n",
       "                                                  stars    votes  \n",
       "0     ['Ralph Macchio, ', 'William Zabka, ', 'Courtn...  177,031  \n",
       "1     ['Claire Foy, ', 'Olivia Colman, ', 'Imelda St...  199,885  \n",
       "2     ['Bob Odenkirk, ', 'Rhea Seehorn, ', 'Jonathan...  501,384  \n",
       "3     ['Emily Deschanel, ', 'Sam Jaeger, ', 'Gerardo...    9,773  \n",
       "4     ['Zach Aguilar, ', 'Kenichiro Ohashi, ', 'Emi ...   15,413  \n",
       "...                                                 ...      ...  \n",
       "9952  ['Morgan Taylor Campbell, ', 'Italia Ricci, ',...    3,130  \n",
       "9953  ['Andrew Lincoln, ', 'Norman Reedus, ', 'Melis...  970,067  \n",
       "9954  ['Claire Foy, ', 'Olivia Colman, ', 'Imelda St...  199,898  \n",
       "9955  ['Jared Padalecki, ', 'Jensen Ackles, ', 'Jim ...  439,601  \n",
       "9956  ['Emily Deschanel, ', 'Sam Jaeger, ', 'Gerardo...    9,786  \n",
       "\n",
       "[9957 rows x 9 columns]"
      ]
     },
     "execution_count": 3,
     "metadata": {},
     "output_type": "execute_result"
    }
   ],
   "source": [
    "df"
   ]
  },
  {
   "cell_type": "code",
   "execution_count": 4,
   "id": "389f3caa",
   "metadata": {},
   "outputs": [
    {
     "data": {
      "text/plain": [
       "Index(['title', 'year', 'certificate', 'duration', 'genre', 'rating',\n",
       "       'description', 'stars', 'votes'],\n",
       "      dtype='object')"
      ]
     },
     "execution_count": 4,
     "metadata": {},
     "output_type": "execute_result"
    }
   ],
   "source": [
    "df.columns"
   ]
  },
  {
   "cell_type": "code",
   "execution_count": 5,
   "id": "9ea76f30",
   "metadata": {},
   "outputs": [
    {
     "name": "stdout",
     "output_type": "stream",
     "text": [
      "<class 'pandas.core.frame.DataFrame'>\n",
      "RangeIndex: 9957 entries, 0 to 9956\n",
      "Data columns (total 9 columns):\n",
      " #   Column       Non-Null Count  Dtype  \n",
      "---  ------       --------------  -----  \n",
      " 0   title        9957 non-null   object \n",
      " 1   year         9430 non-null   object \n",
      " 2   certificate  6504 non-null   object \n",
      " 3   duration     7921 non-null   object \n",
      " 4   genre        9884 non-null   object \n",
      " 5   rating       8784 non-null   float64\n",
      " 6   description  9957 non-null   object \n",
      " 7   stars        9957 non-null   object \n",
      " 8   votes        8784 non-null   object \n",
      "dtypes: float64(1), object(8)\n",
      "memory usage: 700.2+ KB\n"
     ]
    }
   ],
   "source": [
    "df.info()"
   ]
  },
  {
   "cell_type": "code",
   "execution_count": 6,
   "id": "f217ffe1",
   "metadata": {},
   "outputs": [
    {
     "data": {
      "text/plain": [
       "(9957, 9)"
      ]
     },
     "execution_count": 6,
     "metadata": {},
     "output_type": "execute_result"
    }
   ],
   "source": [
    "df.shape"
   ]
  },
  {
   "cell_type": "code",
   "execution_count": 7,
   "id": "afd7c006",
   "metadata": {},
   "outputs": [
    {
     "data": {
      "text/html": [
       "<div>\n",
       "<style scoped>\n",
       "    .dataframe tbody tr th:only-of-type {\n",
       "        vertical-align: middle;\n",
       "    }\n",
       "\n",
       "    .dataframe tbody tr th {\n",
       "        vertical-align: top;\n",
       "    }\n",
       "\n",
       "    .dataframe thead th {\n",
       "        text-align: right;\n",
       "    }\n",
       "</style>\n",
       "<table border=\"1\" class=\"dataframe\">\n",
       "  <thead>\n",
       "    <tr style=\"text-align: right;\">\n",
       "      <th></th>\n",
       "      <th>rating</th>\n",
       "    </tr>\n",
       "  </thead>\n",
       "  <tbody>\n",
       "    <tr>\n",
       "      <th>count</th>\n",
       "      <td>8784.000000</td>\n",
       "    </tr>\n",
       "    <tr>\n",
       "      <th>mean</th>\n",
       "      <td>6.764515</td>\n",
       "    </tr>\n",
       "    <tr>\n",
       "      <th>std</th>\n",
       "      <td>1.214840</td>\n",
       "    </tr>\n",
       "    <tr>\n",
       "      <th>min</th>\n",
       "      <td>1.700000</td>\n",
       "    </tr>\n",
       "    <tr>\n",
       "      <th>25%</th>\n",
       "      <td>6.100000</td>\n",
       "    </tr>\n",
       "    <tr>\n",
       "      <th>50%</th>\n",
       "      <td>6.900000</td>\n",
       "    </tr>\n",
       "    <tr>\n",
       "      <th>75%</th>\n",
       "      <td>7.600000</td>\n",
       "    </tr>\n",
       "    <tr>\n",
       "      <th>max</th>\n",
       "      <td>9.900000</td>\n",
       "    </tr>\n",
       "  </tbody>\n",
       "</table>\n",
       "</div>"
      ],
      "text/plain": [
       "            rating\n",
       "count  8784.000000\n",
       "mean      6.764515\n",
       "std       1.214840\n",
       "min       1.700000\n",
       "25%       6.100000\n",
       "50%       6.900000\n",
       "75%       7.600000\n",
       "max       9.900000"
      ]
     },
     "execution_count": 7,
     "metadata": {},
     "output_type": "execute_result"
    }
   ],
   "source": [
    "df.describe()"
   ]
  },
  {
   "cell_type": "code",
   "execution_count": 8,
   "id": "61de3e7a",
   "metadata": {},
   "outputs": [
    {
     "data": {
      "text/plain": [
       "certificate    3453\n",
       "duration       2036\n",
       "rating         1173\n",
       "votes          1173\n",
       "year            527\n",
       "genre            73\n",
       "title             0\n",
       "description       0\n",
       "stars             0\n",
       "dtype: int64"
      ]
     },
     "execution_count": 8,
     "metadata": {},
     "output_type": "execute_result"
    }
   ],
   "source": [
    "df.isna().sum().sort_values(ascending=False)"
   ]
  },
  {
   "cell_type": "code",
   "execution_count": 9,
   "id": "f240332d",
   "metadata": {},
   "outputs": [
    {
     "data": {
      "text/plain": [
       "certificate    34.679120\n",
       "duration       20.447926\n",
       "rating         11.780657\n",
       "votes          11.780657\n",
       "year            5.292759\n",
       "genre           0.733153\n",
       "title           0.000000\n",
       "description     0.000000\n",
       "stars           0.000000\n",
       "dtype: float64"
      ]
     },
     "execution_count": 9,
     "metadata": {},
     "output_type": "execute_result"
    }
   ],
   "source": [
    "missing_perc=df.isna().sum().sort_values(ascending=False)/len(df)*100\n",
    "missing_perc"
   ]
  },
  {
   "cell_type": "code",
   "execution_count": 10,
   "id": "e77d0645",
   "metadata": {},
   "outputs": [
    {
     "data": {
      "text/plain": [
       "<AxesSubplot:>"
      ]
     },
     "execution_count": 10,
     "metadata": {},
     "output_type": "execute_result"
    },
    {
     "data": {
      "image/png": "[encoded data removed]",
      "text/plain": [
       "<Figure size 432x288 with 1 Axes>"
      ]
     },
     "metadata": {},
     "output_type": "display_data"
    }
   ],
   "source": [
    "missing_perc.plot(kind='barh')"
   ]
  },
  {
   "cell_type": "code",
   "execution_count": 11,
   "id": "2777b91b",
   "metadata": {},
   "outputs": [],
   "source": [
    "df['Duration']=df['duration'].str.split(' ').str[0].str.split(' ').str[0]"
   ]
  },
  {
   "cell_type": "code",
   "execution_count": 12,
   "id": "a22dba9e",
   "metadata": {},
   "outputs": [],
   "source": [
    "df.drop('duration',axis=1,inplace=True)"
   ]
  },
  {
   "cell_type": "code",
   "execution_count": 13,
   "id": "52b54f3c",
   "metadata": {},
   "outputs": [
    {
     "data": {
      "text/plain": [
       "60    385\n",
       "24    295\n",
       "30    265\n",
       "45    211\n",
       "90    193\n",
       "Name: Duration, dtype: int64"
      ]
     },
     "execution_count": 13,
     "metadata": {},
     "output_type": "execute_result"
    }
   ],
   "source": [
    "df['Duration'].value_counts(ascending=False).head()"
   ]
  },
  {
   "cell_type": "code",
   "execution_count": 14,
   "id": "fe86b795",
   "metadata": {},
   "outputs": [],
   "source": [
    "df['Duration'].fillna(df['Duration'].median(), inplace=True)\n",
    "df['rating'].fillna(df['rating'].mean(), inplace=True)"
   ]
  },
  {
   "cell_type": "code",
   "execution_count": 15,
   "id": "41e652b1",
   "metadata": {},
   "outputs": [],
   "source": [
    "df['Duration']=df['Duration'].astype('int')\n",
    "df['rating']=df['rating'].astype('int')"
   ]
  },
  {
   "cell_type": "code",
   "execution_count": 16,
   "id": "99bd5492",
   "metadata": {},
   "outputs": [
    {
     "name": "stdout",
     "output_type": "stream",
     "text": [
      "<class 'pandas.core.frame.DataFrame'>\n",
      "RangeIndex: 9957 entries, 0 to 9956\n",
      "Data columns (total 9 columns):\n",
      " #   Column       Non-Null Count  Dtype \n",
      "---  ------       --------------  ----- \n",
      " 0   title        9957 non-null   object\n",
      " 1   year         9430 non-null   object\n",
      " 2   certificate  6504 non-null   object\n",
      " 3   genre        9884 non-null   object\n",
      " 4   rating       9957 non-null   int64 \n",
      " 5   description  9957 non-null   object\n",
      " 6   stars        9957 non-null   object\n",
      " 7   votes        8784 non-null   object\n",
      " 8   Duration     9957 non-null   int64 \n",
      "dtypes: int64(2), object(7)\n",
      "memory usage: 700.2+ KB\n"
     ]
    }
   ],
   "source": [
    "df.info()"
   ]
  },
  {
   "cell_type": "code",
   "execution_count": 17,
   "id": "7be9b655",
   "metadata": {},
   "outputs": [
    {
     "data": {
      "text/plain": [
       "array([8, 5, 7, 9, 6, 4, 3, 2, 1])"
      ]
     },
     "execution_count": 17,
     "metadata": {},
     "output_type": "execute_result"
    }
   ],
   "source": [
    "df['rating'].unique()"
   ]
  },
  {
   "cell_type": "code",
   "execution_count": 18,
   "id": "d56d2a83",
   "metadata": {},
   "outputs": [],
   "source": [
    "from sklearn.preprocessing import LabelEncoder\n",
    "labelencoder=LabelEncoder()\n",
    "df['title']=labelencoder.fit_transform(df['title'])"
   ]
  },
  {
   "cell_type": "code",
   "execution_count": 19,
   "id": "07092dbc",
   "metadata": {},
   "outputs": [
    {
     "name": "stderr",
     "output_type": "stream",
     "text": [
      "/Users/keyurpatel/opt/anaconda3/lib/python3.9/site-packages/seaborn/_decorators.py:36: FutureWarning: Pass the following variables as keyword args: x, y. From version 0.12, the only valid positional argument will be `data`, and passing other arguments without an explicit keyword will result in an error or misinterpretation.\n",
      "  warnings.warn(\n"
     ]
    },
    {
     "data": {
      "text/plain": [
       "[Text(0.5, 0, 'Title'), Text(0, 0.5, 'Rating'), None]"
      ]
     },
     "execution_count": 19,
     "metadata": {},
     "output_type": "execute_result"
    },
    {
     "data": {
      "image/png": "[encoded data removed]",
      "text/plain": [
       "<Figure size 432x288 with 1 Axes>"
      ]
     },
     "metadata": {},
     "output_type": "display_data"
    }
   ],
   "source": [
    "g=sns.barplot(df['title'].head(20),'rating',data=df)\n",
    "g.set(xlabel = 'Title', ylabel = 'Rating',xmargin=-0.3)"
   ]
  },
  {
   "cell_type": "code",
   "execution_count": 20,
   "id": "ef0cf946",
   "metadata": {},
   "outputs": [
    {
     "name": "stderr",
     "output_type": "stream",
     "text": [
      "/Users/keyurpatel/opt/anaconda3/lib/python3.9/site-packages/seaborn/_decorators.py:36: FutureWarning: Pass the following variables as keyword args: x, y. From version 0.12, the only valid positional argument will be `data`, and passing other arguments without an explicit keyword will result in an error or misinterpretation.\n",
      "  warnings.warn(\n"
     ]
    },
    {
     "data": {
      "text/plain": [
       "[Text(0.5, 0, 'Title'), Text(0, 0.5, 'Duration'), None]"
      ]
     },
     "execution_count": 20,
     "metadata": {},
     "output_type": "execute_result"
    },
    {
     "data": {
      "image/png": "[encoded data removed]",
      "text/plain": [
       "<Figure size 432x288 with 1 Axes>"
      ]
     },
     "metadata": {},
     "output_type": "display_data"
    }
   ],
   "source": [
    "g=sns.barplot(df['title'].head(20),'Duration',data=df)\n",
    "g.set(xlabel = 'Title', ylabel = 'Duration',xmargin=-0.3)"
   ]
  },
  {
   "cell_type": "code",
   "execution_count": 21,
   "id": "7a87ee9f",
   "metadata": {},
   "outputs": [],
   "source": [
    "df['genre_1']=df['genre'].str.split(',').str[0]\n",
    "df['genre_2']=df['genre'].str.split(',').str[1]\n",
    "df['genre_3']=df['genre'].str.split(',').str[2]\n",
    "df.drop('genre',axis=1,inplace=True)"
   ]
  },
  {
   "cell_type": "code",
   "execution_count": 22,
   "id": "b132b808",
   "metadata": {},
   "outputs": [
    {
     "data": {
      "text/plain": [
       "array(['Action', 'Biography', 'Crime', 'Drama', 'Animation', 'Comedy',\n",
       "       'Thriller', 'Documentary', 'Horror', 'Adventure', 'Reality-TV',\n",
       "       'Mystery', 'Family', 'Game-Show', 'Short', 'Fantasy', 'Romance',\n",
       "       'History', 'Sci-Fi', 'Talk-Show', 'Sport', 'Film-Noir', nan,\n",
       "       'Western', 'Music', 'News', 'Musical'], dtype=object)"
      ]
     },
     "execution_count": 22,
     "metadata": {},
     "output_type": "execute_result"
    }
   ],
   "source": [
    "df['genre_1'].unique()"
   ]
  },
  {
   "cell_type": "code",
   "execution_count": 23,
   "id": "38e993e2",
   "metadata": {},
   "outputs": [
    {
     "data": {
      "text/plain": [
       "array([' Comedy', ' Drama', ' Horror', ' Action', ' Fantasy',\n",
       "       ' Adventure', ' Crime', nan, ' Romance', ' History', ' Biography',\n",
       "       ' Mystery', ' Thriller', ' Family', ' Short', ' Music', ' War',\n",
       "       ' Musical', ' Sci-Fi', ' Reality-TV', ' Western', ' Sport',\n",
       "       ' Game-Show', ' News', ' Animation', ' Film-Noir', ' Documentary',\n",
       "       ' Talk-Show'], dtype=object)"
      ]
     },
     "execution_count": 23,
     "metadata": {},
     "output_type": "execute_result"
    }
   ],
   "source": [
    "df['genre_2'].unique()"
   ]
  },
  {
   "cell_type": "code",
   "execution_count": 24,
   "id": "3ae2723d",
   "metadata": {},
   "outputs": [
    {
     "data": {
      "text/plain": [
       "array([' Drama', ' History', nan, ' Mystery', ' Adventure', ' Horror',\n",
       "       ' Comedy', ' Thriller', ' Sport', ' Sci-Fi', ' Crime', ' Romance',\n",
       "       ' Fantasy', ' Family', ' Action', ' War', ' Music', ' Biography',\n",
       "       ' Western', ' Musical', ' Reality-TV', ' Talk-Show', ' Film-Noir',\n",
       "       ' News', ' Game-Show', ' Short'], dtype=object)"
      ]
     },
     "execution_count": 24,
     "metadata": {},
     "output_type": "execute_result"
    }
   ],
   "source": [
    "df['genre_3'].unique()"
   ]
  },
  {
   "cell_type": "code",
   "execution_count": 25,
   "id": "8e0856c9",
   "metadata": {},
   "outputs": [],
   "source": [
    "labelencoder=LabelEncoder()\n",
    "df['genre_1']=labelencoder.fit_transform(df['genre_1'])\n",
    "df['genre_2']=labelencoder.fit_transform(df['genre_2'])\n",
    "df['genre_3']=labelencoder.fit_transform(df['genre_3'])"
   ]
  },
  {
   "cell_type": "code",
   "execution_count": 26,
   "id": "7d24d334",
   "metadata": {},
   "outputs": [
    {
     "data": {
      "text/html": [
       "<div>\n",
       "<style scoped>\n",
       "    .dataframe tbody tr th:only-of-type {\n",
       "        vertical-align: middle;\n",
       "    }\n",
       "\n",
       "    .dataframe tbody tr th {\n",
       "        vertical-align: top;\n",
       "    }\n",
       "\n",
       "    .dataframe thead th {\n",
       "        text-align: right;\n",
       "    }\n",
       "</style>\n",
       "<table border=\"1\" class=\"dataframe\">\n",
       "  <thead>\n",
       "    <tr style=\"text-align: right;\">\n",
       "      <th></th>\n",
       "      <th>title</th>\n",
       "      <th>rating</th>\n",
       "      <th>Duration</th>\n",
       "      <th>genre_1</th>\n",
       "      <th>genre_2</th>\n",
       "      <th>genre_3</th>\n",
       "    </tr>\n",
       "  </thead>\n",
       "  <tbody>\n",
       "    <tr>\n",
       "      <th>count</th>\n",
       "      <td>9957.000000</td>\n",
       "      <td>9957.000000</td>\n",
       "      <td>9957.000000</td>\n",
       "      <td>9957.000000</td>\n",
       "      <td>9957.000000</td>\n",
       "      <td>9957.00000</td>\n",
       "    </tr>\n",
       "    <tr>\n",
       "      <th>mean</th>\n",
       "      <td>3995.019283</td>\n",
       "      <td>6.273376</td>\n",
       "      <td>72.386964</td>\n",
       "      <td>5.219544</td>\n",
       "      <td>13.626996</td>\n",
       "      <td>17.85126</td>\n",
       "    </tr>\n",
       "    <tr>\n",
       "      <th>std</th>\n",
       "      <td>2304.539797</td>\n",
       "      <td>1.179197</td>\n",
       "      <td>44.929922</td>\n",
       "      <td>4.748941</td>\n",
       "      <td>10.063991</td>\n",
       "      <td>8.86328</td>\n",
       "    </tr>\n",
       "    <tr>\n",
       "      <th>min</th>\n",
       "      <td>0.000000</td>\n",
       "      <td>1.000000</td>\n",
       "      <td>1.000000</td>\n",
       "      <td>0.000000</td>\n",
       "      <td>0.000000</td>\n",
       "      <td>0.00000</td>\n",
       "    </tr>\n",
       "    <tr>\n",
       "      <th>25%</th>\n",
       "      <td>1980.000000</td>\n",
       "      <td>6.000000</td>\n",
       "      <td>46.000000</td>\n",
       "      <td>2.000000</td>\n",
       "      <td>5.000000</td>\n",
       "      <td>10.00000</td>\n",
       "    </tr>\n",
       "    <tr>\n",
       "      <th>50%</th>\n",
       "      <td>3992.000000</td>\n",
       "      <td>6.000000</td>\n",
       "      <td>67.000000</td>\n",
       "      <td>4.000000</td>\n",
       "      <td>9.000000</td>\n",
       "      <td>25.00000</td>\n",
       "    </tr>\n",
       "    <tr>\n",
       "      <th>75%</th>\n",
       "      <td>6048.000000</td>\n",
       "      <td>7.000000</td>\n",
       "      <td>93.000000</td>\n",
       "      <td>7.000000</td>\n",
       "      <td>27.000000</td>\n",
       "      <td>25.00000</td>\n",
       "    </tr>\n",
       "    <tr>\n",
       "      <th>max</th>\n",
       "      <td>7911.000000</td>\n",
       "      <td>9.000000</td>\n",
       "      <td>990.000000</td>\n",
       "      <td>26.000000</td>\n",
       "      <td>27.000000</td>\n",
       "      <td>25.00000</td>\n",
       "    </tr>\n",
       "  </tbody>\n",
       "</table>\n",
       "</div>"
      ],
      "text/plain": [
       "             title       rating     Duration      genre_1      genre_2  \\\n",
       "count  9957.000000  9957.000000  9957.000000  9957.000000  9957.000000   \n",
       "mean   3995.019283     6.273376    72.386964     5.219544    13.626996   \n",
       "std    2304.539797     1.179197    44.929922     4.748941    10.063991   \n",
       "min       0.000000     1.000000     1.000000     0.000000     0.000000   \n",
       "25%    1980.000000     6.000000    46.000000     2.000000     5.000000   \n",
       "50%    3992.000000     6.000000    67.000000     4.000000     9.000000   \n",
       "75%    6048.000000     7.000000    93.000000     7.000000    27.000000   \n",
       "max    7911.000000     9.000000   990.000000    26.000000    27.000000   \n",
       "\n",
       "          genre_3  \n",
       "count  9957.00000  \n",
       "mean     17.85126  \n",
       "std       8.86328  \n",
       "min       0.00000  \n",
       "25%      10.00000  \n",
       "50%      25.00000  \n",
       "75%      25.00000  \n",
       "max      25.00000  "
      ]
     },
     "execution_count": 26,
     "metadata": {},
     "output_type": "execute_result"
    }
   ],
   "source": [
    "df.describe()"
   ]
  },
  {
   "cell_type": "code",
   "execution_count": 27,
   "id": "7abef5e4",
   "metadata": {},
   "outputs": [
    {
     "name": "stdout",
     "output_type": "stream",
     "text": [
      "<class 'pandas.core.frame.DataFrame'>\n",
      "RangeIndex: 9957 entries, 0 to 9956\n",
      "Data columns (total 11 columns):\n",
      " #   Column       Non-Null Count  Dtype \n",
      "---  ------       --------------  ----- \n",
      " 0   title        9957 non-null   int64 \n",
      " 1   year         9430 non-null   object\n",
      " 2   certificate  6504 non-null   object\n",
      " 3   rating       9957 non-null   int64 \n",
      " 4   description  9957 non-null   object\n",
      " 5   stars        9957 non-null   object\n",
      " 6   votes        8784 non-null   object\n",
      " 7   Duration     9957 non-null   int64 \n",
      " 8   genre_1      9957 non-null   int64 \n",
      " 9   genre_2      9957 non-null   int64 \n",
      " 10  genre_3      9957 non-null   int64 \n",
      "dtypes: int64(6), object(5)\n",
      "memory usage: 855.8+ KB\n"
     ]
    }
   ],
   "source": [
    "df.info()"
   ]
  },
  {
   "cell_type": "code",
   "execution_count": 28,
   "id": "b7897cba",
   "metadata": {},
   "outputs": [
    {
     "data": {
      "text/plain": [
       "<seaborn.axisgrid.FacetGrid at 0x7f87c5d7f610>"
      ]
     },
     "execution_count": 28,
     "metadata": {},
     "output_type": "execute_result"
    },
    {
     "data": {
      "image/png": "[encoded data removed]",
      "text/plain": [
       "<Figure size 412.8x360 with 1 Axes>"
      ]
     },
     "metadata": {},
     "output_type": "display_data"
    }
   ],
   "source": [
    "sns.displot(df, x=df['title'], hue=\"genre_1\", element=\"step\")"
   ]
  },
  {
   "cell_type": "code",
   "execution_count": 29,
   "id": "d17aae32",
   "metadata": {},
   "outputs": [
    {
     "data": {
      "text/plain": [
       "<seaborn.axisgrid.FacetGrid at 0x7f87c6de71f0>"
      ]
     },
     "execution_count": 29,
     "metadata": {},
     "output_type": "execute_result"
    },
    {
     "data": {
      "image/png": "[encoded data removed]",
      "text/plain": [
       "<Figure size 412.8x360 with 1 Axes>"
      ]
     },
     "metadata": {},
     "output_type": "display_data"
    }
   ],
   "source": [
    "sns.displot(df, x=df['title'], hue=\"genre_2\", element=\"step\")"
   ]
  },
  {
   "cell_type": "code",
   "execution_count": 30,
   "id": "02aa9277",
   "metadata": {},
   "outputs": [
    {
     "data": {
      "text/plain": [
       "<seaborn.axisgrid.FacetGrid at 0x7f87c79b2670>"
      ]
     },
     "execution_count": 30,
     "metadata": {},
     "output_type": "execute_result"
    },
    {
     "data": {
      "image/png": "[encoded data removed]",
      "text/plain": [
       "<Figure size 412.8x360 with 1 Axes>"
      ]
     },
     "metadata": {},
     "output_type": "display_data"
    }
   ],
   "source": [
    "sns.displot(df, x=df['title'], hue=\"genre_3\", element=\"step\")  "
   ]
  },
  {
   "cell_type": "code",
   "execution_count": 31,
   "id": "6f88fe80",
   "metadata": {},
   "outputs": [
    {
     "data": {
      "text/html": [
       "<div>\n",
       "<style scoped>\n",
       "    .dataframe tbody tr th:only-of-type {\n",
       "        vertical-align: middle;\n",
       "    }\n",
       "\n",
       "    .dataframe tbody tr th {\n",
       "        vertical-align: top;\n",
       "    }\n",
       "\n",
       "    .dataframe thead th {\n",
       "        text-align: right;\n",
       "    }\n",
       "</style>\n",
       "<table border=\"1\" class=\"dataframe\">\n",
       "  <thead>\n",
       "    <tr style=\"text-align: right;\">\n",
       "      <th></th>\n",
       "      <th>title</th>\n",
       "      <th>year</th>\n",
       "      <th>certificate</th>\n",
       "      <th>rating</th>\n",
       "      <th>description</th>\n",
       "      <th>stars</th>\n",
       "      <th>votes</th>\n",
       "      <th>Duration</th>\n",
       "      <th>genre_1</th>\n",
       "      <th>genre_2</th>\n",
       "      <th>genre_3</th>\n",
       "    </tr>\n",
       "  </thead>\n",
       "  <tbody>\n",
       "    <tr>\n",
       "      <th>0</th>\n",
       "      <td>1292</td>\n",
       "      <td>(2018– )</td>\n",
       "      <td>TV-14</td>\n",
       "      <td>8</td>\n",
       "      <td>Decades after their 1984 All Valley Karate Tou...</td>\n",
       "      <td>['Ralph Macchio, ', 'William Zabka, ', 'Courtn...</td>\n",
       "      <td>177,031</td>\n",
       "      <td>30</td>\n",
       "      <td>0</td>\n",
       "      <td>4</td>\n",
       "      <td>5</td>\n",
       "    </tr>\n",
       "    <tr>\n",
       "      <th>1</th>\n",
       "      <td>6128</td>\n",
       "      <td>(2016– )</td>\n",
       "      <td>TV-MA</td>\n",
       "      <td>8</td>\n",
       "      <td>Follows the political rivalries and romance of...</td>\n",
       "      <td>['Claire Foy, ', 'Olivia Colman, ', 'Imelda St...</td>\n",
       "      <td>199,885</td>\n",
       "      <td>58</td>\n",
       "      <td>3</td>\n",
       "      <td>7</td>\n",
       "      <td>10</td>\n",
       "    </tr>\n",
       "    <tr>\n",
       "      <th>2</th>\n",
       "      <td>777</td>\n",
       "      <td>(2015–2022)</td>\n",
       "      <td>TV-MA</td>\n",
       "      <td>8</td>\n",
       "      <td>The trials and tribulations of criminal lawyer...</td>\n",
       "      <td>['Bob Odenkirk, ', 'Rhea Seehorn, ', 'Jonathan...</td>\n",
       "      <td>501,384</td>\n",
       "      <td>46</td>\n",
       "      <td>5</td>\n",
       "      <td>7</td>\n",
       "      <td>25</td>\n",
       "    </tr>\n",
       "    <tr>\n",
       "      <th>3</th>\n",
       "      <td>1670</td>\n",
       "      <td>(2022)</td>\n",
       "      <td>TV-MA</td>\n",
       "      <td>5</td>\n",
       "      <td>When a psychiatrist shelters a mysterious cult...</td>\n",
       "      <td>['Emily Deschanel, ', 'Sam Jaeger, ', 'Gerardo...</td>\n",
       "      <td>9,773</td>\n",
       "      <td>356</td>\n",
       "      <td>7</td>\n",
       "      <td>13</td>\n",
       "      <td>14</td>\n",
       "    </tr>\n",
       "    <tr>\n",
       "      <th>4</th>\n",
       "      <td>1450</td>\n",
       "      <td>(2022– )</td>\n",
       "      <td>TV-MA</td>\n",
       "      <td>8</td>\n",
       "      <td>A Street Kid trying to survive in a technology...</td>\n",
       "      <td>['Zach Aguilar, ', 'Kenichiro Ohashi, ', 'Emi ...</td>\n",
       "      <td>15,413</td>\n",
       "      <td>24</td>\n",
       "      <td>2</td>\n",
       "      <td>0</td>\n",
       "      <td>1</td>\n",
       "    </tr>\n",
       "    <tr>\n",
       "      <th>...</th>\n",
       "      <td>...</td>\n",
       "      <td>...</td>\n",
       "      <td>...</td>\n",
       "      <td>...</td>\n",
       "      <td>...</td>\n",
       "      <td>...</td>\n",
       "      <td>...</td>\n",
       "      <td>...</td>\n",
       "      <td>...</td>\n",
       "      <td>...</td>\n",
       "      <td>...</td>\n",
       "    </tr>\n",
       "    <tr>\n",
       "      <th>9952</th>\n",
       "      <td>6383</td>\n",
       "      <td>(2022– )</td>\n",
       "      <td>TV-MA</td>\n",
       "      <td>6</td>\n",
       "      <td>After an experimental gene therapy turns them ...</td>\n",
       "      <td>['Morgan Taylor Campbell, ', 'Italia Ricci, ',...</td>\n",
       "      <td>3,130</td>\n",
       "      <td>45</td>\n",
       "      <td>0</td>\n",
       "      <td>1</td>\n",
       "      <td>5</td>\n",
       "    </tr>\n",
       "    <tr>\n",
       "      <th>9953</th>\n",
       "      <td>6938</td>\n",
       "      <td>(2010–2022)</td>\n",
       "      <td>TV-MA</td>\n",
       "      <td>8</td>\n",
       "      <td>Sheriff Deputy Rick Grimes wakes up from a com...</td>\n",
       "      <td>['Andrew Lincoln, ', 'Norman Reedus, ', 'Melis...</td>\n",
       "      <td>970,067</td>\n",
       "      <td>44</td>\n",
       "      <td>7</td>\n",
       "      <td>13</td>\n",
       "      <td>22</td>\n",
       "    </tr>\n",
       "    <tr>\n",
       "      <th>9954</th>\n",
       "      <td>6128</td>\n",
       "      <td>(2016– )</td>\n",
       "      <td>TV-MA</td>\n",
       "      <td>8</td>\n",
       "      <td>Follows the political rivalries and romance of...</td>\n",
       "      <td>['Claire Foy, ', 'Olivia Colman, ', 'Imelda St...</td>\n",
       "      <td>199,898</td>\n",
       "      <td>58</td>\n",
       "      <td>3</td>\n",
       "      <td>7</td>\n",
       "      <td>10</td>\n",
       "    </tr>\n",
       "    <tr>\n",
       "      <th>9955</th>\n",
       "      <td>5770</td>\n",
       "      <td>(2005–2020)</td>\n",
       "      <td>TV-14</td>\n",
       "      <td>8</td>\n",
       "      <td>Two brothers follow their father's footsteps a...</td>\n",
       "      <td>['Jared Padalecki, ', 'Jensen Ackles, ', 'Jim ...</td>\n",
       "      <td>439,601</td>\n",
       "      <td>44</td>\n",
       "      <td>7</td>\n",
       "      <td>9</td>\n",
       "      <td>11</td>\n",
       "    </tr>\n",
       "    <tr>\n",
       "      <th>9956</th>\n",
       "      <td>1670</td>\n",
       "      <td>(2022)</td>\n",
       "      <td>TV-MA</td>\n",
       "      <td>5</td>\n",
       "      <td>When a psychiatrist shelters a mysterious cult...</td>\n",
       "      <td>['Emily Deschanel, ', 'Sam Jaeger, ', 'Gerardo...</td>\n",
       "      <td>9,786</td>\n",
       "      <td>356</td>\n",
       "      <td>7</td>\n",
       "      <td>13</td>\n",
       "      <td>14</td>\n",
       "    </tr>\n",
       "  </tbody>\n",
       "</table>\n",
       "<p>9957 rows × 11 columns</p>\n",
       "</div>"
      ],
      "text/plain": [
       "      title         year certificate  rating  \\\n",
       "0      1292     (2018– )       TV-14       8   \n",
       "1      6128     (2016– )       TV-MA       8   \n",
       "2       777  (2015–2022)       TV-MA       8   \n",
       "3      1670       (2022)       TV-MA       5   \n",
       "4      1450     (2022– )       TV-MA       8   \n",
       "...     ...          ...         ...     ...   \n",
       "9952   6383     (2022– )       TV-MA       6   \n",
       "9953   6938  (2010–2022)       TV-MA       8   \n",
       "9954   6128     (2016– )       TV-MA       8   \n",
       "9955   5770  (2005–2020)       TV-14       8   \n",
       "9956   1670       (2022)       TV-MA       5   \n",
       "\n",
       "                                            description  \\\n",
       "0     Decades after their 1984 All Valley Karate Tou...   \n",
       "1     Follows the political rivalries and romance of...   \n",
       "2     The trials and tribulations of criminal lawyer...   \n",
       "3     When a psychiatrist shelters a mysterious cult...   \n",
       "4     A Street Kid trying to survive in a technology...   \n",
       "...                                                 ...   \n",
       "9952  After an experimental gene therapy turns them ...   \n",
       "9953  Sheriff Deputy Rick Grimes wakes up from a com...   \n",
       "9954  Follows the political rivalries and romance of...   \n",
       "9955  Two brothers follow their father's footsteps a...   \n",
       "9956  When a psychiatrist shelters a mysterious cult...   \n",
       "\n",
       "                                                  stars    votes  Duration  \\\n",
       "0     ['Ralph Macchio, ', 'William Zabka, ', 'Courtn...  177,031        30   \n",
       "1     ['Claire Foy, ', 'Olivia Colman, ', 'Imelda St...  199,885        58   \n",
       "2     ['Bob Odenkirk, ', 'Rhea Seehorn, ', 'Jonathan...  501,384        46   \n",
       "3     ['Emily Deschanel, ', 'Sam Jaeger, ', 'Gerardo...    9,773       356   \n",
       "4     ['Zach Aguilar, ', 'Kenichiro Ohashi, ', 'Emi ...   15,413        24   \n",
       "...                                                 ...      ...       ...   \n",
       "9952  ['Morgan Taylor Campbell, ', 'Italia Ricci, ',...    3,130        45   \n",
       "9953  ['Andrew Lincoln, ', 'Norman Reedus, ', 'Melis...  970,067        44   \n",
       "9954  ['Claire Foy, ', 'Olivia Colman, ', 'Imelda St...  199,898        58   \n",
       "9955  ['Jared Padalecki, ', 'Jensen Ackles, ', 'Jim ...  439,601        44   \n",
       "9956  ['Emily Deschanel, ', 'Sam Jaeger, ', 'Gerardo...    9,786       356   \n",
       "\n",
       "      genre_1  genre_2  genre_3  \n",
       "0           0        4        5  \n",
       "1           3        7       10  \n",
       "2           5        7       25  \n",
       "3           7       13       14  \n",
       "4           2        0        1  \n",
       "...       ...      ...      ...  \n",
       "9952        0        1        5  \n",
       "9953        7       13       22  \n",
       "9954        3        7       10  \n",
       "9955        7        9       11  \n",
       "9956        7       13       14  \n",
       "\n",
       "[9957 rows x 11 columns]"
      ]
     },
     "execution_count": 31,
     "metadata": {},
     "output_type": "execute_result"
    }
   ],
   "source": [
    "df"
   ]
  },
  {
   "cell_type": "code",
   "execution_count": 32,
   "id": "97cab84c",
   "metadata": {},
   "outputs": [
    {
     "name": "stdout",
     "output_type": "stream",
     "text": [
      "<class 'pandas.core.frame.DataFrame'>\n",
      "RangeIndex: 9957 entries, 0 to 9956\n",
      "Data columns (total 11 columns):\n",
      " #   Column       Non-Null Count  Dtype \n",
      "---  ------       --------------  ----- \n",
      " 0   title        9957 non-null   int64 \n",
      " 1   year         9430 non-null   object\n",
      " 2   certificate  6504 non-null   object\n",
      " 3   rating       9957 non-null   int64 \n",
      " 4   description  9957 non-null   object\n",
      " 5   stars        9957 non-null   object\n",
      " 6   votes        8784 non-null   object\n",
      " 7   Duration     9957 non-null   int64 \n",
      " 8   genre_1      9957 non-null   int64 \n",
      " 9   genre_2      9957 non-null   int64 \n",
      " 10  genre_3      9957 non-null   int64 \n",
      "dtypes: int64(6), object(5)\n",
      "memory usage: 855.8+ KB\n"
     ]
    }
   ],
   "source": [
    "df.info()"
   ]
  },
  {
   "cell_type": "code",
   "execution_count": 33,
   "id": "3dc8b69f",
   "metadata": {},
   "outputs": [],
   "source": [
    "df['year'] = df['year'].astype(str).apply(lambda x: x.replace('–', ','))\n",
    "df['year'] = df['year'].astype(str).apply(lambda x: x.replace('(', ''))\n",
    "df['year'] = df['year'].astype(str).apply(lambda x: x.replace(')', ''))"
   ]
  },
  {
   "cell_type": "code",
   "execution_count": 34,
   "id": "1c7963ff",
   "metadata": {},
   "outputs": [
    {
     "data": {
      "text/plain": [
       "0          2018, \n",
       "1          2016, \n",
       "2       2015,2022\n",
       "3            2022\n",
       "4          2022, \n",
       "          ...    \n",
       "9952       2022, \n",
       "9953    2010,2022\n",
       "9954       2016, \n",
       "9955    2005,2020\n",
       "9956         2022\n",
       "Name: year, Length: 9957, dtype: object"
      ]
     },
     "execution_count": 34,
     "metadata": {},
     "output_type": "execute_result"
    }
   ],
   "source": [
    "df['year']"
   ]
  },
  {
   "cell_type": "code",
   "execution_count": 35,
   "id": "aa409846",
   "metadata": {},
   "outputs": [],
   "source": [
    "df['year_1']=df['year'].str.split(',').str[0]\n",
    "df['year_2']=df['year'].str.split(',').str[1]\n",
    "df.drop('year',axis=1,inplace=True)"
   ]
  },
  {
   "cell_type": "code",
   "execution_count": null,
   "id": "36acb0bf",
   "metadata": {},
   "outputs": [],
   "source": []
  },
  {
   "cell_type": "code",
   "execution_count": 36,
   "id": "982efa41",
   "metadata": {},
   "outputs": [
    {
     "data": {
      "text/plain": [
       "        2039\n",
       "2020     342\n",
       "2021     258\n",
       "2019     171\n",
       "2022     139\n",
       "2018      92\n",
       "2014      82\n",
       "2012      81\n",
       "2017      64\n",
       "2008      56\n",
       "2023      53\n",
       "2013      47\n",
       "2016      37\n",
       "2015      28\n",
       "2010      28\n",
       "2011       8\n",
       "2000       8\n",
       "2009       6\n",
       "2002       5\n",
       "1996       5\n",
       "2007       5\n",
       "1999       5\n",
       "2004       5\n",
       "2006       4\n",
       "2005       4\n",
       "2001       3\n",
       "1998       2\n",
       "1995       2\n",
       "1989       2\n",
       "1991       1\n",
       "2003       1\n",
       "1993       1\n",
       "1969       1\n",
       "1979       1\n",
       "1974       1\n",
       "1994       1\n",
       "1997       1\n",
       "Name: year_2, dtype: int64"
      ]
     },
     "execution_count": 36,
     "metadata": {},
     "output_type": "execute_result"
    }
   ],
   "source": [
    "df['year_2'].value_counts(ascending=False)"
   ]
  },
  {
   "cell_type": "code",
   "execution_count": 37,
   "id": "9ac50dfd",
   "metadata": {},
   "outputs": [],
   "source": [
    "df['year_2'].fillna(0,inplace=True)"
   ]
  },
  {
   "cell_type": "code",
   "execution_count": 38,
   "id": "06e9e88c",
   "metadata": {},
   "outputs": [],
   "source": [
    "df['year_2'] = df['year_2'].replace(\" \", 0)"
   ]
  },
  {
   "cell_type": "code",
   "execution_count": 39,
   "id": "ce114a2d",
   "metadata": {},
   "outputs": [
    {
     "data": {
      "text/plain": [
       "certificate    3453\n",
       "votes          1173\n",
       "title             0\n",
       "rating            0\n",
       "description       0\n",
       "stars             0\n",
       "Duration          0\n",
       "genre_1           0\n",
       "genre_2           0\n",
       "genre_3           0\n",
       "year_1            0\n",
       "year_2            0\n",
       "dtype: int64"
      ]
     },
     "execution_count": 39,
     "metadata": {},
     "output_type": "execute_result"
    }
   ],
   "source": [
    "df.isna().sum().sort_values(ascending=False)"
   ]
  },
  {
   "cell_type": "code",
   "execution_count": 40,
   "id": "9cb8337d",
   "metadata": {},
   "outputs": [
    {
     "data": {
      "text/html": [
       "<div>\n",
       "<style scoped>\n",
       "    .dataframe tbody tr th:only-of-type {\n",
       "        vertical-align: middle;\n",
       "    }\n",
       "\n",
       "    .dataframe tbody tr th {\n",
       "        vertical-align: top;\n",
       "    }\n",
       "\n",
       "    .dataframe thead th {\n",
       "        text-align: right;\n",
       "    }\n",
       "</style>\n",
       "<table border=\"1\" class=\"dataframe\">\n",
       "  <thead>\n",
       "    <tr style=\"text-align: right;\">\n",
       "      <th></th>\n",
       "      <th>title</th>\n",
       "      <th>certificate</th>\n",
       "      <th>rating</th>\n",
       "      <th>description</th>\n",
       "      <th>stars</th>\n",
       "      <th>votes</th>\n",
       "      <th>Duration</th>\n",
       "      <th>genre_1</th>\n",
       "      <th>genre_2</th>\n",
       "      <th>genre_3</th>\n",
       "      <th>year_1</th>\n",
       "      <th>year_2</th>\n",
       "    </tr>\n",
       "  </thead>\n",
       "  <tbody>\n",
       "    <tr>\n",
       "      <th>0</th>\n",
       "      <td>1292</td>\n",
       "      <td>TV-14</td>\n",
       "      <td>8</td>\n",
       "      <td>Decades after their 1984 All Valley Karate Tou...</td>\n",
       "      <td>['Ralph Macchio, ', 'William Zabka, ', 'Courtn...</td>\n",
       "      <td>177,031</td>\n",
       "      <td>30</td>\n",
       "      <td>0</td>\n",
       "      <td>4</td>\n",
       "      <td>5</td>\n",
       "      <td>2018</td>\n",
       "      <td>0</td>\n",
       "    </tr>\n",
       "    <tr>\n",
       "      <th>1</th>\n",
       "      <td>6128</td>\n",
       "      <td>TV-MA</td>\n",
       "      <td>8</td>\n",
       "      <td>Follows the political rivalries and romance of...</td>\n",
       "      <td>['Claire Foy, ', 'Olivia Colman, ', 'Imelda St...</td>\n",
       "      <td>199,885</td>\n",
       "      <td>58</td>\n",
       "      <td>3</td>\n",
       "      <td>7</td>\n",
       "      <td>10</td>\n",
       "      <td>2016</td>\n",
       "      <td>0</td>\n",
       "    </tr>\n",
       "    <tr>\n",
       "      <th>2</th>\n",
       "      <td>777</td>\n",
       "      <td>TV-MA</td>\n",
       "      <td>8</td>\n",
       "      <td>The trials and tribulations of criminal lawyer...</td>\n",
       "      <td>['Bob Odenkirk, ', 'Rhea Seehorn, ', 'Jonathan...</td>\n",
       "      <td>501,384</td>\n",
       "      <td>46</td>\n",
       "      <td>5</td>\n",
       "      <td>7</td>\n",
       "      <td>25</td>\n",
       "      <td>2015</td>\n",
       "      <td>2022</td>\n",
       "    </tr>\n",
       "    <tr>\n",
       "      <th>3</th>\n",
       "      <td>1670</td>\n",
       "      <td>TV-MA</td>\n",
       "      <td>5</td>\n",
       "      <td>When a psychiatrist shelters a mysterious cult...</td>\n",
       "      <td>['Emily Deschanel, ', 'Sam Jaeger, ', 'Gerardo...</td>\n",
       "      <td>9,773</td>\n",
       "      <td>356</td>\n",
       "      <td>7</td>\n",
       "      <td>13</td>\n",
       "      <td>14</td>\n",
       "      <td>2022</td>\n",
       "      <td>0</td>\n",
       "    </tr>\n",
       "    <tr>\n",
       "      <th>4</th>\n",
       "      <td>1450</td>\n",
       "      <td>TV-MA</td>\n",
       "      <td>8</td>\n",
       "      <td>A Street Kid trying to survive in a technology...</td>\n",
       "      <td>['Zach Aguilar, ', 'Kenichiro Ohashi, ', 'Emi ...</td>\n",
       "      <td>15,413</td>\n",
       "      <td>24</td>\n",
       "      <td>2</td>\n",
       "      <td>0</td>\n",
       "      <td>1</td>\n",
       "      <td>2022</td>\n",
       "      <td>0</td>\n",
       "    </tr>\n",
       "    <tr>\n",
       "      <th>...</th>\n",
       "      <td>...</td>\n",
       "      <td>...</td>\n",
       "      <td>...</td>\n",
       "      <td>...</td>\n",
       "      <td>...</td>\n",
       "      <td>...</td>\n",
       "      <td>...</td>\n",
       "      <td>...</td>\n",
       "      <td>...</td>\n",
       "      <td>...</td>\n",
       "      <td>...</td>\n",
       "      <td>...</td>\n",
       "    </tr>\n",
       "    <tr>\n",
       "      <th>9952</th>\n",
       "      <td>6383</td>\n",
       "      <td>TV-MA</td>\n",
       "      <td>6</td>\n",
       "      <td>After an experimental gene therapy turns them ...</td>\n",
       "      <td>['Morgan Taylor Campbell, ', 'Italia Ricci, ',...</td>\n",
       "      <td>3,130</td>\n",
       "      <td>45</td>\n",
       "      <td>0</td>\n",
       "      <td>1</td>\n",
       "      <td>5</td>\n",
       "      <td>2022</td>\n",
       "      <td>0</td>\n",
       "    </tr>\n",
       "    <tr>\n",
       "      <th>9953</th>\n",
       "      <td>6938</td>\n",
       "      <td>TV-MA</td>\n",
       "      <td>8</td>\n",
       "      <td>Sheriff Deputy Rick Grimes wakes up from a com...</td>\n",
       "      <td>['Andrew Lincoln, ', 'Norman Reedus, ', 'Melis...</td>\n",
       "      <td>970,067</td>\n",
       "      <td>44</td>\n",
       "      <td>7</td>\n",
       "      <td>13</td>\n",
       "      <td>22</td>\n",
       "      <td>2010</td>\n",
       "      <td>2022</td>\n",
       "    </tr>\n",
       "    <tr>\n",
       "      <th>9954</th>\n",
       "      <td>6128</td>\n",
       "      <td>TV-MA</td>\n",
       "      <td>8</td>\n",
       "      <td>Follows the political rivalries and romance of...</td>\n",
       "      <td>['Claire Foy, ', 'Olivia Colman, ', 'Imelda St...</td>\n",
       "      <td>199,898</td>\n",
       "      <td>58</td>\n",
       "      <td>3</td>\n",
       "      <td>7</td>\n",
       "      <td>10</td>\n",
       "      <td>2016</td>\n",
       "      <td>0</td>\n",
       "    </tr>\n",
       "    <tr>\n",
       "      <th>9955</th>\n",
       "      <td>5770</td>\n",
       "      <td>TV-14</td>\n",
       "      <td>8</td>\n",
       "      <td>Two brothers follow their father's footsteps a...</td>\n",
       "      <td>['Jared Padalecki, ', 'Jensen Ackles, ', 'Jim ...</td>\n",
       "      <td>439,601</td>\n",
       "      <td>44</td>\n",
       "      <td>7</td>\n",
       "      <td>9</td>\n",
       "      <td>11</td>\n",
       "      <td>2005</td>\n",
       "      <td>2020</td>\n",
       "    </tr>\n",
       "    <tr>\n",
       "      <th>9956</th>\n",
       "      <td>1670</td>\n",
       "      <td>TV-MA</td>\n",
       "      <td>5</td>\n",
       "      <td>When a psychiatrist shelters a mysterious cult...</td>\n",
       "      <td>['Emily Deschanel, ', 'Sam Jaeger, ', 'Gerardo...</td>\n",
       "      <td>9,786</td>\n",
       "      <td>356</td>\n",
       "      <td>7</td>\n",
       "      <td>13</td>\n",
       "      <td>14</td>\n",
       "      <td>2022</td>\n",
       "      <td>0</td>\n",
       "    </tr>\n",
       "  </tbody>\n",
       "</table>\n",
       "<p>9957 rows × 12 columns</p>\n",
       "</div>"
      ],
      "text/plain": [
       "      title certificate  rating  \\\n",
       "0      1292       TV-14       8   \n",
       "1      6128       TV-MA       8   \n",
       "2       777       TV-MA       8   \n",
       "3      1670       TV-MA       5   \n",
       "4      1450       TV-MA       8   \n",
       "...     ...         ...     ...   \n",
       "9952   6383       TV-MA       6   \n",
       "9953   6938       TV-MA       8   \n",
       "9954   6128       TV-MA       8   \n",
       "9955   5770       TV-14       8   \n",
       "9956   1670       TV-MA       5   \n",
       "\n",
       "                                            description  \\\n",
       "0     Decades after their 1984 All Valley Karate Tou...   \n",
       "1     Follows the political rivalries and romance of...   \n",
       "2     The trials and tribulations of criminal lawyer...   \n",
       "3     When a psychiatrist shelters a mysterious cult...   \n",
       "4     A Street Kid trying to survive in a technology...   \n",
       "...                                                 ...   \n",
       "9952  After an experimental gene therapy turns them ...   \n",
       "9953  Sheriff Deputy Rick Grimes wakes up from a com...   \n",
       "9954  Follows the political rivalries and romance of...   \n",
       "9955  Two brothers follow their father's footsteps a...   \n",
       "9956  When a psychiatrist shelters a mysterious cult...   \n",
       "\n",
       "                                                  stars    votes  Duration  \\\n",
       "0     ['Ralph Macchio, ', 'William Zabka, ', 'Courtn...  177,031        30   \n",
       "1     ['Claire Foy, ', 'Olivia Colman, ', 'Imelda St...  199,885        58   \n",
       "2     ['Bob Odenkirk, ', 'Rhea Seehorn, ', 'Jonathan...  501,384        46   \n",
       "3     ['Emily Deschanel, ', 'Sam Jaeger, ', 'Gerardo...    9,773       356   \n",
       "4     ['Zach Aguilar, ', 'Kenichiro Ohashi, ', 'Emi ...   15,413        24   \n",
       "...                                                 ...      ...       ...   \n",
       "9952  ['Morgan Taylor Campbell, ', 'Italia Ricci, ',...    3,130        45   \n",
       "9953  ['Andrew Lincoln, ', 'Norman Reedus, ', 'Melis...  970,067        44   \n",
       "9954  ['Claire Foy, ', 'Olivia Colman, ', 'Imelda St...  199,898        58   \n",
       "9955  ['Jared Padalecki, ', 'Jensen Ackles, ', 'Jim ...  439,601        44   \n",
       "9956  ['Emily Deschanel, ', 'Sam Jaeger, ', 'Gerardo...    9,786       356   \n",
       "\n",
       "      genre_1  genre_2  genre_3 year_1 year_2  \n",
       "0           0        4        5   2018      0  \n",
       "1           3        7       10   2016      0  \n",
       "2           5        7       25   2015   2022  \n",
       "3           7       13       14   2022      0  \n",
       "4           2        0        1   2022      0  \n",
       "...       ...      ...      ...    ...    ...  \n",
       "9952        0        1        5   2022      0  \n",
       "9953        7       13       22   2010   2022  \n",
       "9954        3        7       10   2016      0  \n",
       "9955        7        9       11   2005   2020  \n",
       "9956        7       13       14   2022      0  \n",
       "\n",
       "[9957 rows x 12 columns]"
      ]
     },
     "execution_count": 40,
     "metadata": {},
     "output_type": "execute_result"
    }
   ],
   "source": [
    "df"
   ]
  },
  {
   "cell_type": "code",
   "execution_count": 41,
   "id": "8294fc9a",
   "metadata": {},
   "outputs": [
    {
     "data": {
      "text/plain": [
       "title             0\n",
       "certificate    3453\n",
       "rating            0\n",
       "description       0\n",
       "stars             0\n",
       "votes          1173\n",
       "Duration          0\n",
       "genre_1           0\n",
       "genre_2           0\n",
       "genre_3           0\n",
       "year_1            0\n",
       "year_2            0\n",
       "dtype: int64"
      ]
     },
     "execution_count": 41,
     "metadata": {},
     "output_type": "execute_result"
    }
   ],
   "source": [
    "df.isna().sum()"
   ]
  },
  {
   "cell_type": "code",
   "execution_count": 42,
   "id": "6ab66d5e",
   "metadata": {},
   "outputs": [
    {
     "data": {
      "text/html": [
       "<div>\n",
       "<style scoped>\n",
       "    .dataframe tbody tr th:only-of-type {\n",
       "        vertical-align: middle;\n",
       "    }\n",
       "\n",
       "    .dataframe tbody tr th {\n",
       "        vertical-align: top;\n",
       "    }\n",
       "\n",
       "    .dataframe thead th {\n",
       "        text-align: right;\n",
       "    }\n",
       "</style>\n",
       "<table border=\"1\" class=\"dataframe\">\n",
       "  <thead>\n",
       "    <tr style=\"text-align: right;\">\n",
       "      <th></th>\n",
       "      <th>title</th>\n",
       "      <th>certificate</th>\n",
       "      <th>rating</th>\n",
       "      <th>description</th>\n",
       "      <th>stars</th>\n",
       "      <th>votes</th>\n",
       "      <th>Duration</th>\n",
       "      <th>genre_1</th>\n",
       "      <th>genre_2</th>\n",
       "      <th>genre_3</th>\n",
       "      <th>year_1</th>\n",
       "      <th>year_2</th>\n",
       "    </tr>\n",
       "  </thead>\n",
       "  <tbody>\n",
       "    <tr>\n",
       "      <th>0</th>\n",
       "      <td>1292</td>\n",
       "      <td>TV-14</td>\n",
       "      <td>8</td>\n",
       "      <td>Decades after their 1984 All Valley Karate Tou...</td>\n",
       "      <td>['Ralph Macchio, ', 'William Zabka, ', 'Courtn...</td>\n",
       "      <td>177,031</td>\n",
       "      <td>30</td>\n",
       "      <td>0</td>\n",
       "      <td>4</td>\n",
       "      <td>5</td>\n",
       "      <td>2018</td>\n",
       "      <td>0</td>\n",
       "    </tr>\n",
       "    <tr>\n",
       "      <th>1</th>\n",
       "      <td>6128</td>\n",
       "      <td>TV-MA</td>\n",
       "      <td>8</td>\n",
       "      <td>Follows the political rivalries and romance of...</td>\n",
       "      <td>['Claire Foy, ', 'Olivia Colman, ', 'Imelda St...</td>\n",
       "      <td>199,885</td>\n",
       "      <td>58</td>\n",
       "      <td>3</td>\n",
       "      <td>7</td>\n",
       "      <td>10</td>\n",
       "      <td>2016</td>\n",
       "      <td>0</td>\n",
       "    </tr>\n",
       "    <tr>\n",
       "      <th>2</th>\n",
       "      <td>777</td>\n",
       "      <td>TV-MA</td>\n",
       "      <td>8</td>\n",
       "      <td>The trials and tribulations of criminal lawyer...</td>\n",
       "      <td>['Bob Odenkirk, ', 'Rhea Seehorn, ', 'Jonathan...</td>\n",
       "      <td>501,384</td>\n",
       "      <td>46</td>\n",
       "      <td>5</td>\n",
       "      <td>7</td>\n",
       "      <td>25</td>\n",
       "      <td>2015</td>\n",
       "      <td>2022</td>\n",
       "    </tr>\n",
       "    <tr>\n",
       "      <th>3</th>\n",
       "      <td>1670</td>\n",
       "      <td>TV-MA</td>\n",
       "      <td>5</td>\n",
       "      <td>When a psychiatrist shelters a mysterious cult...</td>\n",
       "      <td>['Emily Deschanel, ', 'Sam Jaeger, ', 'Gerardo...</td>\n",
       "      <td>9,773</td>\n",
       "      <td>356</td>\n",
       "      <td>7</td>\n",
       "      <td>13</td>\n",
       "      <td>14</td>\n",
       "      <td>2022</td>\n",
       "      <td>0</td>\n",
       "    </tr>\n",
       "    <tr>\n",
       "      <th>4</th>\n",
       "      <td>1450</td>\n",
       "      <td>TV-MA</td>\n",
       "      <td>8</td>\n",
       "      <td>A Street Kid trying to survive in a technology...</td>\n",
       "      <td>['Zach Aguilar, ', 'Kenichiro Ohashi, ', 'Emi ...</td>\n",
       "      <td>15,413</td>\n",
       "      <td>24</td>\n",
       "      <td>2</td>\n",
       "      <td>0</td>\n",
       "      <td>1</td>\n",
       "      <td>2022</td>\n",
       "      <td>0</td>\n",
       "    </tr>\n",
       "    <tr>\n",
       "      <th>...</th>\n",
       "      <td>...</td>\n",
       "      <td>...</td>\n",
       "      <td>...</td>\n",
       "      <td>...</td>\n",
       "      <td>...</td>\n",
       "      <td>...</td>\n",
       "      <td>...</td>\n",
       "      <td>...</td>\n",
       "      <td>...</td>\n",
       "      <td>...</td>\n",
       "      <td>...</td>\n",
       "      <td>...</td>\n",
       "    </tr>\n",
       "    <tr>\n",
       "      <th>9952</th>\n",
       "      <td>6383</td>\n",
       "      <td>TV-MA</td>\n",
       "      <td>6</td>\n",
       "      <td>After an experimental gene therapy turns them ...</td>\n",
       "      <td>['Morgan Taylor Campbell, ', 'Italia Ricci, ',...</td>\n",
       "      <td>3,130</td>\n",
       "      <td>45</td>\n",
       "      <td>0</td>\n",
       "      <td>1</td>\n",
       "      <td>5</td>\n",
       "      <td>2022</td>\n",
       "      <td>0</td>\n",
       "    </tr>\n",
       "    <tr>\n",
       "      <th>9953</th>\n",
       "      <td>6938</td>\n",
       "      <td>TV-MA</td>\n",
       "      <td>8</td>\n",
       "      <td>Sheriff Deputy Rick Grimes wakes up from a com...</td>\n",
       "      <td>['Andrew Lincoln, ', 'Norman Reedus, ', 'Melis...</td>\n",
       "      <td>970,067</td>\n",
       "      <td>44</td>\n",
       "      <td>7</td>\n",
       "      <td>13</td>\n",
       "      <td>22</td>\n",
       "      <td>2010</td>\n",
       "      <td>2022</td>\n",
       "    </tr>\n",
       "    <tr>\n",
       "      <th>9954</th>\n",
       "      <td>6128</td>\n",
       "      <td>TV-MA</td>\n",
       "      <td>8</td>\n",
       "      <td>Follows the political rivalries and romance of...</td>\n",
       "      <td>['Claire Foy, ', 'Olivia Colman, ', 'Imelda St...</td>\n",
       "      <td>199,898</td>\n",
       "      <td>58</td>\n",
       "      <td>3</td>\n",
       "      <td>7</td>\n",
       "      <td>10</td>\n",
       "      <td>2016</td>\n",
       "      <td>0</td>\n",
       "    </tr>\n",
       "    <tr>\n",
       "      <th>9955</th>\n",
       "      <td>5770</td>\n",
       "      <td>TV-14</td>\n",
       "      <td>8</td>\n",
       "      <td>Two brothers follow their father's footsteps a...</td>\n",
       "      <td>['Jared Padalecki, ', 'Jensen Ackles, ', 'Jim ...</td>\n",
       "      <td>439,601</td>\n",
       "      <td>44</td>\n",
       "      <td>7</td>\n",
       "      <td>9</td>\n",
       "      <td>11</td>\n",
       "      <td>2005</td>\n",
       "      <td>2020</td>\n",
       "    </tr>\n",
       "    <tr>\n",
       "      <th>9956</th>\n",
       "      <td>1670</td>\n",
       "      <td>TV-MA</td>\n",
       "      <td>5</td>\n",
       "      <td>When a psychiatrist shelters a mysterious cult...</td>\n",
       "      <td>['Emily Deschanel, ', 'Sam Jaeger, ', 'Gerardo...</td>\n",
       "      <td>9,786</td>\n",
       "      <td>356</td>\n",
       "      <td>7</td>\n",
       "      <td>13</td>\n",
       "      <td>14</td>\n",
       "      <td>2022</td>\n",
       "      <td>0</td>\n",
       "    </tr>\n",
       "  </tbody>\n",
       "</table>\n",
       "<p>9957 rows × 12 columns</p>\n",
       "</div>"
      ],
      "text/plain": [
       "      title certificate  rating  \\\n",
       "0      1292       TV-14       8   \n",
       "1      6128       TV-MA       8   \n",
       "2       777       TV-MA       8   \n",
       "3      1670       TV-MA       5   \n",
       "4      1450       TV-MA       8   \n",
       "...     ...         ...     ...   \n",
       "9952   6383       TV-MA       6   \n",
       "9953   6938       TV-MA       8   \n",
       "9954   6128       TV-MA       8   \n",
       "9955   5770       TV-14       8   \n",
       "9956   1670       TV-MA       5   \n",
       "\n",
       "                                            description  \\\n",
       "0     Decades after their 1984 All Valley Karate Tou...   \n",
       "1     Follows the political rivalries and romance of...   \n",
       "2     The trials and tribulations of criminal lawyer...   \n",
       "3     When a psychiatrist shelters a mysterious cult...   \n",
       "4     A Street Kid trying to survive in a technology...   \n",
       "...                                                 ...   \n",
       "9952  After an experimental gene therapy turns them ...   \n",
       "9953  Sheriff Deputy Rick Grimes wakes up from a com...   \n",
       "9954  Follows the political rivalries and romance of...   \n",
       "9955  Two brothers follow their father's footsteps a...   \n",
       "9956  When a psychiatrist shelters a mysterious cult...   \n",
       "\n",
       "                                                  stars    votes  Duration  \\\n",
       "0     ['Ralph Macchio, ', 'William Zabka, ', 'Courtn...  177,031        30   \n",
       "1     ['Claire Foy, ', 'Olivia Colman, ', 'Imelda St...  199,885        58   \n",
       "2     ['Bob Odenkirk, ', 'Rhea Seehorn, ', 'Jonathan...  501,384        46   \n",
       "3     ['Emily Deschanel, ', 'Sam Jaeger, ', 'Gerardo...    9,773       356   \n",
       "4     ['Zach Aguilar, ', 'Kenichiro Ohashi, ', 'Emi ...   15,413        24   \n",
       "...                                                 ...      ...       ...   \n",
       "9952  ['Morgan Taylor Campbell, ', 'Italia Ricci, ',...    3,130        45   \n",
       "9953  ['Andrew Lincoln, ', 'Norman Reedus, ', 'Melis...  970,067        44   \n",
       "9954  ['Claire Foy, ', 'Olivia Colman, ', 'Imelda St...  199,898        58   \n",
       "9955  ['Jared Padalecki, ', 'Jensen Ackles, ', 'Jim ...  439,601        44   \n",
       "9956  ['Emily Deschanel, ', 'Sam Jaeger, ', 'Gerardo...    9,786       356   \n",
       "\n",
       "      genre_1  genre_2  genre_3 year_1 year_2  \n",
       "0           0        4        5   2018      0  \n",
       "1           3        7       10   2016      0  \n",
       "2           5        7       25   2015   2022  \n",
       "3           7       13       14   2022      0  \n",
       "4           2        0        1   2022      0  \n",
       "...       ...      ...      ...    ...    ...  \n",
       "9952        0        1        5   2022      0  \n",
       "9953        7       13       22   2010   2022  \n",
       "9954        3        7       10   2016      0  \n",
       "9955        7        9       11   2005   2020  \n",
       "9956        7       13       14   2022      0  \n",
       "\n",
       "[9957 rows x 12 columns]"
      ]
     },
     "execution_count": 42,
     "metadata": {},
     "output_type": "execute_result"
    }
   ],
   "source": [
    "df"
   ]
  },
  {
   "cell_type": "code",
   "execution_count": 43,
   "id": "528f482a",
   "metadata": {},
   "outputs": [
    {
     "data": {
      "text/plain": [
       "0       177031\n",
       "1       199885\n",
       "2       501384\n",
       "3         9773\n",
       "4        15413\n",
       "         ...  \n",
       "9952      3130\n",
       "9953    970067\n",
       "9954    199898\n",
       "9955    439601\n",
       "9956      9786\n",
       "Name: votes, Length: 9957, dtype: object"
      ]
     },
     "execution_count": 43,
     "metadata": {},
     "output_type": "execute_result"
    }
   ],
   "source": [
    "df['votes'] = df['votes'].astype(str).apply(lambda x: x.replace(',', ''))\n",
    "df['votes'] "
   ]
  },
  {
   "cell_type": "code",
   "execution_count": 44,
   "id": "4f7662f5",
   "metadata": {},
   "outputs": [],
   "source": [
    "df['votes'].fillna(df['votes'].median(),inplace=True)"
   ]
  },
  {
   "cell_type": "code",
   "execution_count": 45,
   "id": "7c93aa2d",
   "metadata": {},
   "outputs": [
    {
     "data": {
      "text/plain": [
       "title             0\n",
       "certificate    3453\n",
       "rating            0\n",
       "description       0\n",
       "stars             0\n",
       "votes             0\n",
       "Duration          0\n",
       "genre_1           0\n",
       "genre_2           0\n",
       "genre_3           0\n",
       "year_1            0\n",
       "year_2            0\n",
       "dtype: int64"
      ]
     },
     "execution_count": 45,
     "metadata": {},
     "output_type": "execute_result"
    }
   ],
   "source": [
    "df.isna().sum()"
   ]
  },
  {
   "cell_type": "code",
   "execution_count": 46,
   "id": "86360119",
   "metadata": {},
   "outputs": [
    {
     "data": {
      "text/plain": [
       "1177       1\n",
       "4326       1\n",
       "2560       1\n",
       "3626       1\n",
       "637        1\n",
       "        ... \n",
       "967       21\n",
       "838       21\n",
       "4401      27\n",
       "2304      33\n",
       "4862    1173\n",
       "Name: votes, Length: 4863, dtype: int64"
      ]
     },
     "execution_count": 46,
     "metadata": {},
     "output_type": "execute_result"
    }
   ],
   "source": [
    "labelencoder=LabelEncoder()\n",
    "df['votes']=labelencoder.fit_transform(df['votes'])\n",
    "df['votes'].value_counts(ascending=True)"
   ]
  },
  {
   "cell_type": "code",
   "execution_count": 47,
   "id": "17b8e899",
   "metadata": {},
   "outputs": [],
   "source": [
    "df.drop('description',axis=1,inplace=True)\n",
    "df.drop('stars',axis=1,inplace=True)\n",
    "df.drop('certificate',axis=1,inplace=True)"
   ]
  },
  {
   "cell_type": "code",
   "execution_count": 48,
   "id": "7817cffa",
   "metadata": {},
   "outputs": [
    {
     "data": {
      "text/html": [
       "<div>\n",
       "<style scoped>\n",
       "    .dataframe tbody tr th:only-of-type {\n",
       "        vertical-align: middle;\n",
       "    }\n",
       "\n",
       "    .dataframe tbody tr th {\n",
       "        vertical-align: top;\n",
       "    }\n",
       "\n",
       "    .dataframe thead th {\n",
       "        text-align: right;\n",
       "    }\n",
       "</style>\n",
       "<table border=\"1\" class=\"dataframe\">\n",
       "  <thead>\n",
       "    <tr style=\"text-align: right;\">\n",
       "      <th></th>\n",
       "      <th>title</th>\n",
       "      <th>rating</th>\n",
       "      <th>votes</th>\n",
       "      <th>Duration</th>\n",
       "      <th>genre_1</th>\n",
       "      <th>genre_2</th>\n",
       "      <th>genre_3</th>\n",
       "      <th>year_1</th>\n",
       "      <th>year_2</th>\n",
       "    </tr>\n",
       "  </thead>\n",
       "  <tbody>\n",
       "    <tr>\n",
       "      <th>0</th>\n",
       "      <td>1292</td>\n",
       "      <td>8</td>\n",
       "      <td>1177</td>\n",
       "      <td>30</td>\n",
       "      <td>0</td>\n",
       "      <td>4</td>\n",
       "      <td>5</td>\n",
       "      <td>2018</td>\n",
       "      <td>0</td>\n",
       "    </tr>\n",
       "    <tr>\n",
       "      <th>1</th>\n",
       "      <td>6128</td>\n",
       "      <td>8</td>\n",
       "      <td>1456</td>\n",
       "      <td>58</td>\n",
       "      <td>3</td>\n",
       "      <td>7</td>\n",
       "      <td>10</td>\n",
       "      <td>2016</td>\n",
       "      <td>0</td>\n",
       "    </tr>\n",
       "    <tr>\n",
       "      <th>2</th>\n",
       "      <td>777</td>\n",
       "      <td>8</td>\n",
       "      <td>3449</td>\n",
       "      <td>46</td>\n",
       "      <td>5</td>\n",
       "      <td>7</td>\n",
       "      <td>25</td>\n",
       "      <td>2015</td>\n",
       "      <td>2022</td>\n",
       "    </tr>\n",
       "    <tr>\n",
       "      <th>3</th>\n",
       "      <td>1670</td>\n",
       "      <td>5</td>\n",
       "      <td>4806</td>\n",
       "      <td>356</td>\n",
       "      <td>7</td>\n",
       "      <td>13</td>\n",
       "      <td>14</td>\n",
       "      <td>2022</td>\n",
       "      <td>0</td>\n",
       "    </tr>\n",
       "    <tr>\n",
       "      <th>4</th>\n",
       "      <td>1450</td>\n",
       "      <td>8</td>\n",
       "      <td>898</td>\n",
       "      <td>24</td>\n",
       "      <td>2</td>\n",
       "      <td>0</td>\n",
       "      <td>1</td>\n",
       "      <td>2022</td>\n",
       "      <td>0</td>\n",
       "    </tr>\n",
       "    <tr>\n",
       "      <th>...</th>\n",
       "      <td>...</td>\n",
       "      <td>...</td>\n",
       "      <td>...</td>\n",
       "      <td>...</td>\n",
       "      <td>...</td>\n",
       "      <td>...</td>\n",
       "      <td>...</td>\n",
       "      <td>...</td>\n",
       "      <td>...</td>\n",
       "    </tr>\n",
       "    <tr>\n",
       "      <th>9952</th>\n",
       "      <td>6383</td>\n",
       "      <td>6</td>\n",
       "      <td>2399</td>\n",
       "      <td>45</td>\n",
       "      <td>0</td>\n",
       "      <td>1</td>\n",
       "      <td>5</td>\n",
       "      <td>2022</td>\n",
       "      <td>0</td>\n",
       "    </tr>\n",
       "    <tr>\n",
       "      <th>9953</th>\n",
       "      <td>6938</td>\n",
       "      <td>8</td>\n",
       "      <td>4796</td>\n",
       "      <td>44</td>\n",
       "      <td>7</td>\n",
       "      <td>13</td>\n",
       "      <td>22</td>\n",
       "      <td>2010</td>\n",
       "      <td>2022</td>\n",
       "    </tr>\n",
       "    <tr>\n",
       "      <th>9954</th>\n",
       "      <td>6128</td>\n",
       "      <td>8</td>\n",
       "      <td>1457</td>\n",
       "      <td>58</td>\n",
       "      <td>3</td>\n",
       "      <td>7</td>\n",
       "      <td>10</td>\n",
       "      <td>2016</td>\n",
       "      <td>0</td>\n",
       "    </tr>\n",
       "    <tr>\n",
       "      <th>9955</th>\n",
       "      <td>5770</td>\n",
       "      <td>8</td>\n",
       "      <td>3174</td>\n",
       "      <td>44</td>\n",
       "      <td>7</td>\n",
       "      <td>9</td>\n",
       "      <td>11</td>\n",
       "      <td>2005</td>\n",
       "      <td>2020</td>\n",
       "    </tr>\n",
       "    <tr>\n",
       "      <th>9956</th>\n",
       "      <td>1670</td>\n",
       "      <td>5</td>\n",
       "      <td>4809</td>\n",
       "      <td>356</td>\n",
       "      <td>7</td>\n",
       "      <td>13</td>\n",
       "      <td>14</td>\n",
       "      <td>2022</td>\n",
       "      <td>0</td>\n",
       "    </tr>\n",
       "  </tbody>\n",
       "</table>\n",
       "<p>9957 rows × 9 columns</p>\n",
       "</div>"
      ],
      "text/plain": [
       "      title  rating  votes  Duration  genre_1  genre_2  genre_3 year_1 year_2\n",
       "0      1292       8   1177        30        0        4        5   2018      0\n",
       "1      6128       8   1456        58        3        7       10   2016      0\n",
       "2       777       8   3449        46        5        7       25   2015   2022\n",
       "3      1670       5   4806       356        7       13       14   2022      0\n",
       "4      1450       8    898        24        2        0        1   2022      0\n",
       "...     ...     ...    ...       ...      ...      ...      ...    ...    ...\n",
       "9952   6383       6   2399        45        0        1        5   2022      0\n",
       "9953   6938       8   4796        44        7       13       22   2010   2022\n",
       "9954   6128       8   1457        58        3        7       10   2016      0\n",
       "9955   5770       8   3174        44        7        9       11   2005   2020\n",
       "9956   1670       5   4809       356        7       13       14   2022      0\n",
       "\n",
       "[9957 rows x 9 columns]"
      ]
     },
     "execution_count": 48,
     "metadata": {},
     "output_type": "execute_result"
    }
   ],
   "source": [
    "df"
   ]
  },
  {
   "cell_type": "code",
   "execution_count": 52,
   "id": "1ec15b1d",
   "metadata": {},
   "outputs": [],
   "source": [
    "df.to_excel(r'/Users/keyurpatel/Downloads/n_movies.xlsx', sheet_name='netflixdata', index = False)\n",
    "#/Users/keyurpatel/Downloads/n_movies.csv"
   ]
  },
  {
   "cell_type": "code",
   "execution_count": null,
   "id": "b18e9e3b",
   "metadata": {},
   "outputs": [],
   "source": []
  }
 ],
 "metadata": {
  "kernelspec": {
   "display_name": "Python 3 (ipykernel)",
   "language": "python",
   "name": "python3"
  },
  "language_info": {
   "codemirror_mode": {
    "name": "ipython",
    "version": 3
   },
   "file_extension": ".py",
   "mimetype": "text/x-python",
   "name": "python",
   "nbconvert_exporter": "python",
   "pygments_lexer": "ipython3",
   "version": "3.9.12"
  }
 },
 "nbformat": 4,
 "nbformat_minor": 5
}
